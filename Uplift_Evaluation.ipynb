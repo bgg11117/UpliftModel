{
 "cells": [
  {
   "cell_type": "markdown",
   "metadata": {},
   "source": [
    "ref https://github.com/PGuti/Uplift"
   ]
  },
  {
   "cell_type": "markdown",
   "metadata": {},
   "source": [
    "# Model Evaluation and comparaison"
   ]
  },
  {
   "cell_type": "markdown",
   "metadata": {},
   "source": [
    "In this section we will compare the two approach for uplift modelling.  \n",
    "- First, we will calculate the uplift values and look at the distribution\n",
    "- Then, we'll have a look at the predicted uplift compared to the customer type latent variable\n",
    "- Finally we'll compare the two approchaes \n",
    "    - by looking at the uplift per decile of the population targeted\n",
    "    - by comparing their qini curves "
   ]
  },
  {
   "cell_type": "code",
   "execution_count": 149,
   "metadata": {
    "scrolled": true
   },
   "outputs": [
    {
     "name": "stdout",
     "output_type": "stream",
     "text": [
      "Populating the interactive namespace from numpy and matplotlib\n"
     ]
    }
   ],
   "source": [
    "%pylab inline"
   ]
  },
  {
   "cell_type": "code",
   "execution_count": 150,
   "metadata": {},
   "outputs": [],
   "source": [
    "import warnings\n",
    "warnings.filterwarnings('ignore')\n",
    "import dataiku\n",
    "from dataiku import pandasutils as pdu\n",
    "import pandas as pd\n",
    "import seaborn"
   ]
  },
  {
   "cell_type": "markdown",
   "metadata": {},
   "source": [
    "# Predictions Distributions"
   ]
  },
  {
   "cell_type": "markdown",
   "metadata": {
    "collapsed": true
   },
   "source": [
    "### Two models approach"
   ]
  },
  {
   "cell_type": "code",
   "execution_count": 151,
   "metadata": {},
   "outputs": [],
   "source": [
    "df = pd.read_csv(\"uplift_predictions.csv\")"
   ]
  },
  {
   "cell_type": "markdown",
   "metadata": {},
   "source": [
    "Let's have a look at the predicted probabilities. "
   ]
  },
  {
   "cell_type": "code",
   "execution_count": 153,
   "metadata": {},
   "outputs": [
    {
     "data": {
      "text/plain": [
       "<matplotlib.text.Text at 0x11473aad0>"
      ]
     },
     "execution_count": 153,
     "metadata": {},
     "output_type": "execute_result"
    },
    {
     "data": {
      "image/png": "[encoded data removed]",
      "text/plain": [
       "<matplotlib.figure.Figure at 0x11473ab90>"
      ]
     },
     "metadata": {},
     "output_type": "display_data"
    }
   ],
   "source": [
    "df[[\"proba_outcome_target\",\"proba_outcome_control\"]].hist()\n",
    "plt.suptitle(\"Predicted probability in case and control\")"
   ]
  },
  {
   "cell_type": "markdown",
   "metadata": {},
   "source": [
    "Note that since the models are not very good, the probabilities distribution look like gaussians centered at 0.5"
   ]
  },
  {
   "cell_type": "markdown",
   "metadata": {},
   "source": [
    "To calculate the uplift we just calculate the differences between the two probabilities. "
   ]
  },
  {
   "cell_type": "code",
   "execution_count": 154,
   "metadata": {},
   "outputs": [],
   "source": [
    "df[\"uplift_1\"] = df['proba_outcome_target'] - df['proba_outcome_control']"
   ]
  },
  {
   "cell_type": "code",
   "execution_count": 155,
   "metadata": {},
   "outputs": [
    {
     "data": {
      "text/plain": [
       "<matplotlib.axes._subplots.AxesSubplot at 0x1121b1a10>"
      ]
     },
     "execution_count": 155,
     "metadata": {},
     "output_type": "execute_result"
    },
    {
     "data": {
      "image/png": "[encoded data removed]",
      "text/plain": [
       "<matplotlib.figure.Figure at 0x1137fe590>"
      ]
     },
     "metadata": {},
     "output_type": "display_data"
    }
   ],
   "source": [
    "plt.title(\"Predicted uplift distribution\")\n",
    "df[\"uplift_1\"].hist()"
   ]
  },
  {
   "cell_type": "markdown",
   "metadata": {},
   "source": [
    "This shape is rather expected since the dataset is balanced in customer type. "
   ]
  },
  {
   "cell_type": "markdown",
   "metadata": {},
   "source": [
    "### Outcome Modification approach"
   ]
  },
  {
   "cell_type": "markdown",
   "metadata": {},
   "source": [
    "To calculate the uplift, we just had to multiply by two the predicted probability and remove 1"
   ]
  },
  {
   "cell_type": "code",
   "execution_count": 156,
   "metadata": {},
   "outputs": [
    {
     "data": {
      "text/plain": [
       "<matplotlib.axes._subplots.AxesSubplot at 0x112081890>"
      ]
     },
     "execution_count": 156,
     "metadata": {},
     "output_type": "execute_result"
    },
    {
     "data": {
      "image/png": "[encoded data removed]",
      "text/plain": [
       "<matplotlib.figure.Figure at 0x112094290>"
      ]
     },
     "metadata": {},
     "output_type": "display_data"
    }
   ],
   "source": [
    "plt.title(\"Predicted uplift distribution\")\n",
    "df[\"uplift_2\"].hist()"
   ]
  },
  {
   "cell_type": "markdown",
   "metadata": {},
   "source": [
    "It seems rather similar to the previous distribution with bounds a bit larger. "
   ]
  },
  {
   "cell_type": "markdown",
   "metadata": {},
   "source": [
    "# Model Evaluation "
   ]
  },
  {
   "cell_type": "markdown",
   "metadata": {},
   "source": [
    "## Cutomer type based"
   ]
  },
  {
   "cell_type": "markdown",
   "metadata": {},
   "source": [
    "Since this dataset was simulated, we have the true nature of people in the customer_type variable. A first way to evaluate and compare models is to look at their average predictions on each of these segments. \n",
    "\n",
    "A perfect model would have : \n",
    "- uplift of 1 for persuadable\n",
    "- uplift of -1 for sleeping_dog\n",
    "- uplift of 0 for sure_thing and lost_cause (treatment has no effect)"
   ]
  },
  {
   "cell_type": "code",
   "execution_count": 157,
   "metadata": {},
   "outputs": [
    {
     "data": {
      "text/html": [
       "\n",
       "            <button style=\"display:none\" \n",
       "            class=\"btn btn-default ipython-export-btn\" \n",
       "            id=\"btn-df-458c4d01-0faa-457e-b47f-7a4b988f24c9\" \n",
       "            onclick=\"_export_df('458c4d01-0faa-457e-b47f-7a4b988f24c9')\">\n",
       "                Export dataframe\n",
       "            </button>\n",
       "            \n",
       "            <script>\n",
       "                \n",
       "                function _check_export_df_possible(dfid,yes_fn,no_fn) {\n",
       "                    console.log('Checking dataframe exportability...')\n",
       "                    if(!IPython || !IPython.notebook || !IPython.notebook.kernel || !IPython.notebook.kernel) {\n",
       "                        console.log('Export is not possible (IPython kernel is not available)')\n",
       "                        if(no_fn) {\n",
       "                            no_fn();\n",
       "                        }\n",
       "                    } else {\n",
       "                        var pythonCode = 'from dataiku.notebook.export import IPythonExporter;IPythonExporter._check_export_stdout(\"'+dfid+'\")';\n",
       "                        IPython.notebook.kernel.execute(pythonCode,{iopub: {output: function(resp) {\n",
       "                            console.info(\"Exportability response\", resp);\n",
       "                            var size = /^([0-9]+)x([0-9]+)$/.exec(resp.content.data || resp.content.text)\n",
       "                            if(!size) {\n",
       "                                console.log('Export is not possible (dataframe is not in-memory anymore)')\n",
       "                                if(no_fn) {\n",
       "                                    no_fn();\n",
       "                                }\n",
       "                            } else {\n",
       "                                console.log('Export is possible')\n",
       "                                if(yes_fn) {\n",
       "                                    yes_fn(1*size[1],1*size[2]);\n",
       "                                }\n",
       "                            }\n",
       "                        }}});\n",
       "                    }\n",
       "                }\n",
       "            \n",
       "                function _export_df(dfid) {\n",
       "                    \n",
       "                    var btn = $('#btn-df-'+dfid);\n",
       "                    var btns = $('.ipython-export-btn');\n",
       "                    \n",
       "                    _check_export_df_possible(dfid,function() {\n",
       "                        \n",
       "                        window.parent.openExportModalFromIPython('Pandas dataframe',function(data) {\n",
       "                            btns.prop('disabled',true);\n",
       "                            btn.text('Exporting...');\n",
       "                            IPython.notebook.kernel.execute('from dataiku.notebook.export import IPythonExporter;IPythonExporter._run_export(\"'+dfid+'\",\"'+data.exportId+'\")',{iopub:{output: function(resp) {\n",
       "                                _check_export_df_possible(dfid,function(rows, cols) {\n",
       "                                    $('#btn-df-'+dfid)\n",
       "                                        .css('display','inline-block')\n",
       "                                        .text('Export this dataframe ('+rows+' rows, '+cols+' cols)')\n",
       "                                        .prop('disabled',false);\n",
       "                                },function() {\n",
       "                                    $('#btn-df-'+dfid).css('display','none');\n",
       "                                });\n",
       "                            }}});\n",
       "                        });\n",
       "                    \n",
       "                    }, function(){\n",
       "                            alert('Unable to export : the Dataframe object is not loaded in memory');\n",
       "                            btn.css('display','none');\n",
       "                    });\n",
       "                    \n",
       "                }\n",
       "                \n",
       "                (function(dfid) {\n",
       "                \n",
       "                    var retryCount = 10;\n",
       "                \n",
       "                    function is_valid_websock(s) {\n",
       "                        return s && s.readyState==1;\n",
       "                    }\n",
       "                \n",
       "                    function check_conn() {\n",
       "                        \n",
       "                        if(!IPython || !IPython.notebook) {\n",
       "                            // Don't even try to go further\n",
       "                            return;\n",
       "                        }\n",
       "                        \n",
       "                        // Check if IPython is ready\n",
       "                        console.info(\"Checking conn ...\")\n",
       "                        if(IPython.notebook.kernel\n",
       "                        && IPython.notebook.kernel\n",
       "                        && is_valid_websock(IPython.notebook.kernel.ws)\n",
       "                        ) {\n",
       "                            \n",
       "                            _check_export_df_possible(dfid,function(rows, cols) {\n",
       "                                $('#btn-df-'+dfid).css('display','inline-block');\n",
       "                                $('#btn-df-'+dfid).text('Export this dataframe ('+rows+' rows, '+cols+' cols)');\n",
       "                            });\n",
       "                            \n",
       "                        } else {\n",
       "                            console.info(\"Conditions are not ok\", IPython.notebook.kernel);\n",
       "                            \n",
       "                            // Retry later\n",
       "                            \n",
       "                            if(retryCount>0) {\n",
       "                                setTimeout(check_conn,500);\n",
       "                                retryCount--;\n",
       "                            }\n",
       "                            \n",
       "                        }\n",
       "                    };\n",
       "                    \n",
       "                    setTimeout(check_conn,100);\n",
       "                    \n",
       "                })(\"458c4d01-0faa-457e-b47f-7a4b988f24c9\");\n",
       "                \n",
       "            </script>\n",
       "            \n",
       "        <div>\n",
       "<table border=\"1\" class=\"dataframe\">\n",
       "  <thead>\n",
       "    <tr style=\"text-align: right;\">\n",
       "      <th></th>\n",
       "      <th>uplift_1</th>\n",
       "      <th>uplift_2</th>\n",
       "    </tr>\n",
       "    <tr>\n",
       "      <th>customer_type</th>\n",
       "      <th></th>\n",
       "      <th></th>\n",
       "    </tr>\n",
       "  </thead>\n",
       "  <tbody>\n",
       "    <tr>\n",
       "      <th>lost_cause</th>\n",
       "      <td>-0.021800</td>\n",
       "      <td>-0.010683</td>\n",
       "    </tr>\n",
       "    <tr>\n",
       "      <th>persuadable</th>\n",
       "      <td>0.084966</td>\n",
       "      <td>0.054388</td>\n",
       "    </tr>\n",
       "    <tr>\n",
       "      <th>sleeping_dog</th>\n",
       "      <td>-0.097414</td>\n",
       "      <td>-0.066214</td>\n",
       "    </tr>\n",
       "    <tr>\n",
       "      <th>sure_thing</th>\n",
       "      <td>0.022168</td>\n",
       "      <td>-0.002540</td>\n",
       "    </tr>\n",
       "  </tbody>\n",
       "</table>\n",
       "</div>"
      ],
      "text/plain": [
       "               uplift_1  uplift_2\n",
       "customer_type                    \n",
       "lost_cause    -0.021800 -0.010683\n",
       "persuadable    0.084966  0.054388\n",
       "sleeping_dog  -0.097414 -0.066214\n",
       "sure_thing     0.022168 -0.002540"
      ]
     },
     "execution_count": 157,
     "metadata": {},
     "output_type": "execute_result"
    }
   ],
   "source": [
    "df.groupby(\"customer_type\")[[\"uplift_1\",\"uplift_2\"]].mean()"
   ]
  },
  {
   "cell_type": "markdown",
   "metadata": {},
   "source": [
    "Let's visualize this with a seaborn violin chart"
   ]
  },
  {
   "cell_type": "code",
   "execution_count": 158,
   "metadata": {},
   "outputs": [
    {
     "data": {
      "image/png": "[encoded data removed]",
      "text/plain": [
       "<matplotlib.figure.Figure at 0x114a0fb90>"
      ]
     },
     "metadata": {},
     "output_type": "display_data"
    }
   ],
   "source": [
    "tmp = df[[\"customer_type\",\"uplift_1\"]]\n",
    "tmp.columns = [\"customer_type\",'uplift']\n",
    "tmp[\"model\"] = \"two_models\"\n",
    "\n",
    "tmp1 = df[[\"customer_type\",\"uplift_2\"]]\n",
    "tmp1.columns = [\"customer_type\",'uplift']\n",
    "tmp1[\"model\"] = \"outcome_modification\"\n",
    "\n",
    "tmp = pd.concat([tmp,tmp1],axis=0)\n",
    "\n",
    "seaborn.violinplot(x=\"customer_type\", y=\"uplift\", hue=\"model\", data=tmp, split = True) \n",
    "seaborn.despine(left=True)"
   ]
  },
  {
   "cell_type": "markdown",
   "metadata": {},
   "source": [
    "And to get clearer ideas, a bar chart : "
   ]
  },
  {
   "cell_type": "code",
   "execution_count": 159,
   "metadata": {},
   "outputs": [
    {
     "data": {
      "text/plain": [
       "<seaborn.axisgrid.FacetGrid at 0x1120a5e90>"
      ]
     },
     "execution_count": 159,
     "metadata": {},
     "output_type": "execute_result"
    },
    {
     "data": {
      "image/png": "[encoded data removed]",
      "text/plain": [
       "<matplotlib.figure.Figure at 0x1142f0950>"
      ]
     },
     "metadata": {},
     "output_type": "display_data"
    }
   ],
   "source": [
    "g = seaborn.factorplot(x=\"customer_type\", y=\"uplift\", hue=\"model\", data=tmp,\n",
    "                   size=6, kind=\"bar\", palette=\"muted\")\n",
    "g.despine(left=True)\n",
    "g.set_ylabels(\"estimated uplift\")"
   ]
  },
  {
   "cell_type": "markdown",
   "metadata": {},
   "source": [
    "** Conclusions : ** \n",
    "- Overall the models do not seem very efficient\n",
    "- by looking at the persuadable and sleeping_dog we see that the two model approach seems a bit better. \n",
    "- on the customer type on which treatment should have no effect, the outcome modification approach seems to outperform the other. "
   ]
  },
  {
   "cell_type": "markdown",
   "metadata": {},
   "source": [
    "## Uplift Evaluation"
   ]
  },
  {
   "cell_type": "markdown",
   "metadata": {},
   "source": [
    "### Uplift per decile "
   ]
  },
  {
   "cell_type": "markdown",
   "metadata": {},
   "source": [
    "In this dataset, since customer types are balanced, the treatment has no global effect. But what if we were to order the population by decreasing predicted uplift ?  \n",
    "\n",
    "From a marketing point of view, a way to evaluate uplift would be to sort the control and the treatment/target group by predicted uplift and calculate the actual uplift for bins of probability (exeample : decile)"
   ]
  },
  {
   "cell_type": "code",
   "execution_count": 160,
   "metadata": {},
   "outputs": [],
   "source": [
    "df['is_target'] = df['target_control'].map(lambda x : 1 if x == 'target' else 0)\n",
    "df['perfect'] = df['outcome'] * df['is_target'] -  df['outcome'] * (1-df['is_target'])"
   ]
  },
  {
   "cell_type": "code",
   "execution_count": 161,
   "metadata": {},
   "outputs": [],
   "source": [
    "def get_hist(mydf, upliftcol,targetcol,outcomecol,p = 10):\n",
    "    \"\"\" calucate the uplift for each decile given an uplift prediction column\n",
    "    \"\"\"\n",
    "    control = mydf[mydf[targetcol]==0]\n",
    "    target = mydf[mydf[targetcol]==1]\n",
    "    control.sort(upliftcol)\n",
    "    target.sort(upliftcol)\n",
    "    control[\"percentile\"] =  floor(control[upliftcol].rank(method='first',ascending = False) / (control.shape[0]+1) * p)\n",
    "    target[\"percentile\"] =  floor(target[upliftcol].rank(method='first',ascending = False) / (target.shape[0]+1) * p)\n",
    "    control = (control.groupby([\"percentile\"])[outcomecol].mean()).reset_index()\n",
    "    control.columns = [\"percentile\", 'prob_control']\n",
    "    target = (target.groupby([\"percentile\"])[outcomecol].mean()).reset_index()\n",
    "    target.columns = [\"percentile\", 'prob_target']\n",
    "    final = pd.merge(control,target, on = \"percentile\")\n",
    "    final[\"uplift\"] = final[\"prob_target\"] - final[\"prob_control\"]\n",
    "    return final"
   ]
  },
  {
   "cell_type": "markdown",
   "metadata": {},
   "source": [
    "Let's show the observed uplift for predicted uplift bins (two models approach)"
   ]
  },
  {
   "cell_type": "code",
   "execution_count": 162,
   "metadata": {},
   "outputs": [
    {
     "data": {
      "image/png": "[encoded data removed]",
      "text/plain": [
       "<matplotlib.figure.Figure at 0x1111e1e50>"
      ]
     },
     "metadata": {},
     "output_type": "display_data"
    }
   ],
   "source": [
    "hist_twomod = get_hist(df, \"uplift_1\",\"is_target\",\"outcome\")\n",
    "ax = seaborn.barplot(hist_twomod[\"percentile\"],hist_twomod['uplift'])"
   ]
  },
  {
   "cell_type": "markdown",
   "metadata": {},
   "source": [
    "Wow ! This is model is actually super useful ! We can reduce churn / sickness by 30 % in the first decile ! \n",
    "\n",
    "Let's do the same with the second approach"
   ]
  },
  {
   "cell_type": "code",
   "execution_count": 163,
   "metadata": {},
   "outputs": [
    {
     "data": {
      "image/png": "[encoded data removed]",
      "text/plain": [
       "<matplotlib.figure.Figure at 0x11496aad0>"
      ]
     },
     "metadata": {},
     "output_type": "display_data"
    }
   ],
   "source": [
    "hist_twomod = get_hist(df, \"uplift_2\",\"is_target\",\"outcome\")\n",
    "ax = seaborn.barplot(hist_twomod[\"percentile\"],hist_twomod['uplift'])"
   ]
  },
  {
   "cell_type": "markdown",
   "metadata": {},
   "source": [
    "This model seems to perform better for the first 10 % but if we look at the three first decile it does not seem to beat the first approach "
   ]
  },
  {
   "cell_type": "markdown",
   "metadata": {},
   "source": [
    "By the way... What would be the best model in our case ? We can obtain the perfect model by creating a fake uplift variable with :\n",
    "- higher value on target set if outcome is 1 (converted)\n",
    "- lower value on control if outcome is 1 (sure things)\n",
    "\n",
    "This give us : "
   ]
  },
  {
   "cell_type": "code",
   "execution_count": 164,
   "metadata": {},
   "outputs": [
    {
     "data": {
      "image/png": "[encoded data removed]",
      "text/plain": [
       "<matplotlib.figure.Figure at 0x110f28dd0>"
      ]
     },
     "metadata": {},
     "output_type": "display_data"
    }
   ],
   "source": [
    "hist_twomod = get_hist(df, \"perfect\",\"is_target\",\"outcome\")\n",
    "ax = seaborn.barplot(hist_twomod[\"percentile\"],hist_twomod['uplift'])"
   ]
  },
  {
   "cell_type": "markdown",
   "metadata": {},
   "source": [
    "We are far from it though our models have value ! "
   ]
  },
  {
   "cell_type": "markdown",
   "metadata": {},
   "source": [
    "** NB : **\n",
    "- Here we sorted each dataset (target and control) and created bins on each one before calculating the difference of probability as the uplift\n",
    "- an other possibility is to calculate the uplift directly for each bin after scoring the whole test."
   ]
  },
  {
   "cell_type": "markdown",
   "metadata": {},
   "source": [
    "### Cumulative uplift bins"
   ]
  },
  {
   "cell_type": "markdown",
   "metadata": {
    "collapsed": true
   },
   "source": [
    "The uplift evaluation for each bin is : RT(t)/NT(t) - RC(t)/NC(t). \n",
    "    \n",
    "With : \n",
    "- RT(t) number of positive outcome and treated\n",
    "- RC(t) number of positive outcome and belonging to control\n",
    "- NT(t) number of treated\n",
    "- NC(t) number belonging to control"
   ]
  },
  {
   "cell_type": "code",
   "execution_count": 165,
   "metadata": {
    "collapsed": true
   },
   "outputs": [],
   "source": [
    "def get_hist_cum(df, upliftcol,targetcol, outcome_col,p=10) :\n",
    "    tmp = df.copy()\n",
    "    tmp = tmp.sort(upliftcol,ascending=False)\n",
    "    tmp[\"percentile\"] =  floor(tmp[upliftcol].rank(method='first',ascending = False) / (tmp.shape[0]+1) * p)\n",
    "    final = []\n",
    "    for val in range(p) :\n",
    "        t = tmp[tmp['percentile']<=val]\n",
    "        target = float(t[t[targetcol]==1][outcome_col].mean())\n",
    "        control = float(t[t[targetcol]==0][outcome_col].mean())        \n",
    "        uplift = (target - control) \n",
    "        final.append({'percentile':val,\"uplift\":uplift})\n",
    "    return pd.DataFrame(final)\n",
    "    "
   ]
  },
  {
   "cell_type": "code",
   "execution_count": 166,
   "metadata": {
    "collapsed": true
   },
   "outputs": [],
   "source": [
    "def get_hist_cum_2(df, upliftcol,targetcol, outcome_col,p=10) :\n",
    "    tmp = df.copy()\n",
    "    tmp = tmp.sort(upliftcol,ascending=False)\n",
    "    tmp[\"percentile\"] =  floor(tmp[upliftcol].rank(method='first',ascending = False) / (tmp.shape[0]+1) * p)\n",
    "    final = []\n",
    "    for val in range(p) :\n",
    "        t = tmp[tmp['percentile']<=val]\n",
    "        target = float(t[t[targetcol]==1][outcome_col].mean())\n",
    "        control = float(t[t[targetcol]==0][outcome_col].mean())        \n",
    "        uplift = (target - control) * t.shape[0]\n",
    "        final.append({'percentile':val,\"uplift\":uplift})\n",
    "    return pd.DataFrame(final)\n",
    "    "
   ]
  },
  {
   "cell_type": "code",
   "execution_count": 167,
   "metadata": {},
   "outputs": [
    {
     "data": {
      "image/png": "[encoded data removed]",
      "text/plain": [
       "<matplotlib.figure.Figure at 0x113589b90>"
      ]
     },
     "metadata": {},
     "output_type": "display_data"
    }
   ],
   "source": [
    "hist_twomod = get_hist_cum(df, \"uplift_1\",\"is_target\",\"outcome\",p=10)\n",
    "ax = seaborn.barplot(hist_twomod[\"percentile\"],hist_twomod['uplift'])"
   ]
  },
  {
   "cell_type": "code",
   "execution_count": 168,
   "metadata": {},
   "outputs": [
    {
     "data": {
      "image/png": "[encoded data removed]",
      "text/plain": [
       "<matplotlib.figure.Figure at 0x1111c92d0>"
      ]
     },
     "metadata": {},
     "output_type": "display_data"
    }
   ],
   "source": [
    "hist_twomod = get_hist_cum_2(df, \"uplift_1\",\"is_target\",\"outcome\",p=10)\n",
    "ax = seaborn.barplot(hist_twomod[\"percentile\"],hist_twomod['uplift'])"
   ]
  },
  {
   "cell_type": "markdown",
   "metadata": {},
   "source": [
    "We can generalize this idea by calculating this for each point. This would give us an \"Uplift Curve\""
   ]
  },
  {
   "cell_type": "markdown",
   "metadata": {},
   "source": [
    "## Uplift Curve"
   ]
  },
  {
   "cell_type": "markdown",
   "metadata": {},
   "source": [
    "Idea : \n",
    "- Concatenate treatment and control dataset. \n",
    "- Order by predicted uplift descending.\n",
    "- Evaluate sum of uplift for each point.   \n",
    "That is : uplift value x number of individuals picked (that we'll name t)\n",
    "\n",
    "Let's denote : \n",
    "- RT(t) number of positive outcome and treated  \n",
    "- RC(t) number of positive outcome and belonging to control\n",
    "- NT(t) number of treated\n",
    "- NC(t) number belonging to control\n",
    "\n",
    "The uplift curve is the curve parametrized by t defined as f(t) = (RT(t)/NT(t) - RC(t)/NC(t)) * NT(t)+NC(t)\n",
    "\n",
    "Again the uplift evaluation : RT(t)/NT(t) - RC(t)/NC(t) can be found <a href = \"https://www.researchgate.net/profile/Guido_Imbens/publication/274644919_Machine_Learning_Methods_for_Estimating_Heterogeneous_Causal_Effects/links/553c02250cf2c415bb0b1720.pdf\"> here </a>"
   ]
  },
  {
   "cell_type": "code",
   "execution_count": 169,
   "metadata": {},
   "outputs": [],
   "source": [
    "def uplift(df, target_control_col, outcome_col, proba_col) :\n",
    "    tmp = df.copy()\n",
    "    tmp = tmp.sort(proba_col,ascending=False)\n",
    "    tmp['RT'] = (tmp[target_control_col]*tmp[outcome_col]).cumsum()\n",
    "    tmp['RC'] = ((1-tmp[target_control_col])*tmp[outcome_col]).cumsum()\n",
    "    tmp['NT'] = tmp[target_control_col].cumsum()\n",
    "    tmp['NC'] = (1-tmp[target_control_col]).cumsum()\n",
    "    tmp[\"upc_1\"] =   ((tmp['RT']/tmp['NT']).fillna(0) - (tmp['RC']/tmp['NC']).fillna(0)) *(tmp['NC']+tmp['NT'])\n",
    "    return tmp[\"upc_1\"].values"
   ]
  },
  {
   "cell_type": "code",
   "execution_count": 170,
   "metadata": {},
   "outputs": [],
   "source": [
    "two_mod_uc = uplift(df,'is_target','outcome','uplift_1')\n",
    "modified_uc = uplift(df,'is_target','outcome','uplift_2')\n",
    "perfect_uc = uplift(df,'is_target','outcome','perfect')\n",
    "rd_uc = (df[df['is_target']==1]['outcome'].sum() / float(df[df['is_target']==1].shape[0])\n",
    "        - df[df['is_target']==0]['outcome'].sum() / float(df[df['is_target']==0].shape[0]) )\n",
    "rd = np.arange(df.shape[0]) * rd_uc "
   ]
  },
  {
   "cell_type": "code",
   "execution_count": 171,
   "metadata": {},
   "outputs": [
    {
     "data": {
      "text/plain": [
       "<matplotlib.legend.Legend at 0x115304690>"
      ]
     },
     "execution_count": 171,
     "metadata": {},
     "output_type": "execute_result"
    },
    {
     "data": {
      "image/png": "[encoded data removed]",
      "text/plain": [
       "<matplotlib.figure.Figure at 0x115279250>"
      ]
     },
     "metadata": {},
     "output_type": "display_data"
    }
   ],
   "source": [
    "plot(np.arange(df.shape[0]),perfect_uc, color = 'r', label = 'best_model')\n",
    "plot(np.arange(df.shape[0]),modified_uc, color =  'g', label = 'class_modif')\n",
    "plot(np.arange(df.shape[0]),two_mod_uc, color = 'b', label = 'two_model')\n",
    "plot(np.arange(df.shape[0]),rd,color = 'k', label = 'random')\n",
    "plt.legend(bbox_to_anchor=(1.4, 0.5))"
   ]
  },
  {
   "cell_type": "markdown",
   "metadata": {},
   "source": [
    "** Remarks **\n",
    "- Uplift Curve is a simple generalization of Uplift per decile.\n",
    "- The better the area under the curve the better -> comparable to AUC\n",
    "- UC = NC ( NT + NC )  QINI ! (see following evaluation method)  \n",
    "- the two model approach performs better since it is consistently higher. \n",
    "- the best model is not totally well defined. Anything could happen between getting all the positive treated and positive non treated."
   ]
  },
  {
   "cell_type": "markdown",
   "metadata": {},
   "source": [
    "## Qini Curves "
   ]
  },
  {
   "cell_type": "markdown",
   "metadata": {
    "collapsed": true
   },
   "source": [
    "For more info on Qini curves, refer to <a href = \"http://www.maths.ed.ac.uk/~mthdat25/uplift/dma2006-3-1\" >this paper</a>. "
   ]
  },
  {
   "cell_type": "code",
   "execution_count": 172,
   "metadata": {
    "collapsed": true
   },
   "outputs": [],
   "source": [
    "def qini(df, target_control_col, outcome_col, proba_col) : \n",
    "    tmp = df.copy()\n",
    "    tmp = tmp.sort(proba_col,ascending = False)\n",
    "    tmp['RT'] = (tmp[target_control_col]*tmp[outcome_col]).cumsum()\n",
    "    tmp['RC'] = ((1-tmp[target_control_col])*tmp[outcome_col]).cumsum()\n",
    "    tmp['NT'] = tmp[target_control_col].cumsum()\n",
    "    tmp['NC'] = (1-tmp[target_control_col]).cumsum()\n",
    "    tmp['second_part'] = (tmp['RC'] * tmp['NT'] / tmp['NC']).fillna(0)\n",
    "    tmp['qini'] = tmp['RT'] - tmp['second_part'] \n",
    "    return tmp['qini']"
   ]
  },
  {
   "cell_type": "code",
   "execution_count": 173,
   "metadata": {},
   "outputs": [],
   "source": [
    "two_modqini = qini(df,'is_target','outcome','uplift_1')\n",
    "modified_qini = qini(df,'is_target','outcome','uplift_2')\n",
    "perfect_qini = qini(df,'is_target','outcome','perfect')\n",
    "secpart = df[df['is_target']==0]['outcome'].sum() \\\n",
    "    * float(df[df['is_target']==1].shape[0])/df[df['is_target']==0].shape[0]\n",
    "rqini = df[df['is_target']==1]['outcome'].sum() - secpart\n",
    "rd = np.arange(len(perfect_qini)) * rqini / len(perfect_qini)"
   ]
  },
  {
   "cell_type": "code",
   "execution_count": 174,
   "metadata": {},
   "outputs": [
    {
     "data": {
      "text/plain": [
       "<matplotlib.legend.Legend at 0x1153fbf50>"
      ]
     },
     "execution_count": 174,
     "metadata": {},
     "output_type": "execute_result"
    },
    {
     "data": {
      "image/png": "[encoded data removed]",
      "text/plain": [
       "<matplotlib.figure.Figure at 0x115299b50>"
      ]
     },
     "metadata": {},
     "output_type": "display_data"
    }
   ],
   "source": [
    "plot(np.arange(df.shape[0]),perfect_qini, color = 'r', label = 'best_model')\n",
    "plot(np.arange(df.shape[0]),two_modqini, color =  'b', label = 'two_model')\n",
    "plot(np.arange(df.shape[0]),modified_qini, color = 'g', label = 'class_modif')\n",
    "plot(np.arange(df.shape[0]),rd,color = 'k', label = 'random')\n",
    "plt.legend(bbox_to_anchor=(1.4, 0.5))"
   ]
  },
  {
   "cell_type": "markdown",
   "metadata": {},
   "source": [
    "** Conclusions ** \n",
    "- the theoretical random model (black line) shows that overall, the treatment has a tiny positive effect (positive but low slope) \n",
    "- the red curve correspond to the best theoretical model. The closer to the red curve, the better.\n",
    "- the two model approach seems to perform better than the other approach since its curve is consistently higher. \n",
    "- However, there is room for improovement since we are far from the red curve in both cases.  "
   ]
  },
  {
   "cell_type": "markdown",
   "metadata": {},
   "source": [
    "** Rqs : **\n",
    "- as in lift, you can select best qini / uplift for X % of the pop.\n",
    "- same as proba for classif, you can specify a uplift cutoff for people to choose.   \n",
    "Logical cuttoff is 0 (if action cost 0) = equivalent of 0.5 for classif. "
   ]
  },
  {
   "cell_type": "markdown",
   "metadata": {},
   "source": [
    "## Athey Measure "
   ]
  },
  {
   "cell_type": "markdown",
   "metadata": {},
   "source": [
    "cf <a href = \"https://www.researchgate.net/profile/Guido_Imbens/publication/274644919_Machine_Learning_Methods_for_Estimating_Heterogeneous_Causal_Effects/links/553c02250cf2c415bb0b1720.pdf\"> here </a> \n",
    "\n",
    "It is based on the fact that :   \n",
    "E(Yi\\*) = tau (with tau the real uplift)   \n",
    "having Yi\\* = Yi . (Wi - e(Xi))/(e(Xi)(1-e(Xi)))\n",
    "\n",
    "The formula is :  \n",
    "\n",
    "Q = 1/N Sum(Yi\\* - tau)^2  \n",
    "Q = 1/N (sum(Yt/p - tau)^2 + sum(-Yc/(1-p) - tau)^2)"
   ]
  },
  {
   "cell_type": "code",
   "execution_count": 175,
   "metadata": {},
   "outputs": [],
   "source": [
    "def Q_Athey(df,target_control_col, outcome_col, proba_col):\n",
    "    tmp = df.copy()\n",
    "    p = 1.0/2 # fixed temp here. \n",
    "    #estimation of e(Xi) is a pb. need to think about which estimator to put here. \n",
    "    # A/B test perfect -> p = 1/2\n",
    "    tmp['Yi_star'] = tmp[outcome_col] * (tmp[target_control_col]-p)/(p*(1-p)) \n",
    "    tmp[\"delta\"] = tmp['Yi_star'] - tmp[proba_col]\n",
    "    return np.mean(tmp['delta']*tmp['delta'])"
   ]
  },
  {
   "cell_type": "markdown",
   "metadata": {},
   "source": [
    "- This is the rmse for proba in uplift case (though this measure works also for regression)\n",
    "- this is close model modification ! "
   ]
  },
  {
   "cell_type": "code",
   "execution_count": 176,
   "metadata": {},
   "outputs": [
    {
     "name": "stdout",
     "output_type": "stream",
     "text": [
      "1.88434807228\n",
      "1.89560676296\n"
     ]
    }
   ],
   "source": [
    "print Q_Athey(df,'is_target','outcome','uplift_1')\n",
    "print Q_Athey(df,'is_target','outcome','uplift_2')"
   ]
  },
  {
   "cell_type": "markdown",
   "metadata": {},
   "source": [
    "** ccl **\n",
    "- unsurprisingly the class modification approach performs better. Since it optimize a loss close to this one. "
   ]
  },
  {
   "cell_type": "markdown",
   "metadata": {
    "collapsed": true
   },
   "source": [
    "# General Metric Conclusion"
   ]
  },
  {
   "cell_type": "markdown",
   "metadata": {},
   "source": [
    "Like in classification, there are two types of metrics to measure uplift quality : \n",
    "- free from any cut off.\n",
    "- based on a cut off \n",
    "\n",
    "For classification that would be : \n",
    "\n",
    "- AUC, log loss, rmse\n",
    "- Accuracy, F1-Score, Lift at a certain %\n",
    "\n",
    "There is an equivalent for uplift : \n",
    "- Qini and Uplift curve are similar to ROC and Lift. "
   ]
  }
 ],
 "metadata": {
  "kernelspec": {
   "display_name": "Python 3",
   "language": "python",
   "name": "python3"
  },
  "language_info": {
   "codemirror_mode": {
    "name": "ipython",
    "version": 3
   },
   "file_extension": ".py",
   "mimetype": "text/x-python",
   "name": "python",
   "nbconvert_exporter": "python",
   "pygments_lexer": "ipython3",
   "version": "3.7.6"
  }
 },
 "nbformat": 4,
 "nbformat_minor": 1
}
